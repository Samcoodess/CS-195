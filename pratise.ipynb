{
 "cells": [
  {
   "cell_type": "code",
   "execution_count": 1,
   "metadata": {},
   "outputs": [
    {
     "name": "stdout",
     "output_type": "stream",
     "text": [
      "False\n",
      "True\n"
     ]
    }
   ],
   "source": [
    "def includesOdd(lst:list[int]) -> bool:\n",
    "    \"Returns True if lst has odd numbers, otherwise returns False\"\n",
    "    hasOdd = False\n",
    "    assert isinstance(lst,list), \"lst must be a list of integers\"\n",
    "    for num in lst:\n",
    "        if num%2: # check if num is odd\n",
    "            hasOdd = True\n",
    "    return hasOdd\n",
    "# what does each of these statements print?\n",
    "print( includesOdd([2,4,6,8,10]) )\n",
    "print( includesOdd([1,4,5,8,10]) )\n",
    "# can we make the code above more e"
   ]
  },
  {
   "cell_type": "code",
   "execution_count": null,
   "metadata": {},
   "outputs": [],
   "source": []
  }
 ],
 "metadata": {
  "kernelspec": {
   "display_name": "Python 3.10.6 64-bit",
   "language": "python",
   "name": "python3"
  },
  "language_info": {
   "codemirror_mode": {
    "name": "ipython",
    "version": 3
   },
   "file_extension": ".py",
   "mimetype": "text/x-python",
   "name": "python",
   "nbconvert_exporter": "python",
   "pygments_lexer": "ipython3",
   "version": "3.10.6"
  },
  "orig_nbformat": 4,
  "vscode": {
   "interpreter": {
    "hash": "df7bc51757cee1c5640f40028108a799fef512966b47f20d84c8a3a5a45dca62"
   }
  }
 },
 "nbformat": 4,
 "nbformat_minor": 2
}
