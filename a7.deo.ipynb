{
 "cells": [
  {
   "cell_type": "markdown",
   "metadata": {},
   "source": [
    "***Sambridhi Deo***\n",
    "\n",
    "*CS 195-002*\n",
    "\n",
    "Assigment 7 | Oct 30\n",
    "\n",
    "**Lists and set**"
   ]
  },
  {
   "cell_type": "code",
   "execution_count": 1,
   "metadata": {},
   "outputs": [
    {
     "name": "stdout",
     "output_type": "stream",
     "text": [
      "[10, 11, 12, 13, 14, 15, 16, 17, 18, 19, 20]\n",
      "11\n"
     ]
    }
   ],
   "source": [
    "#create a empty list\n",
    "l=[]\n",
    "\n",
    "#for every i in range(10,21), add i in the list\n",
    "for i in range(10,21):\n",
    "    l.append(i)\n",
    "    \n",
    "# print the updated list and the object at second place\n",
    "print(l)\n",
    "print(l[1])"
   ]
  },
  {
   "cell_type": "code",
   "execution_count": 2,
   "metadata": {},
   "outputs": [
    {
     "name": "stdout",
     "output_type": "stream",
     "text": [
      "32\n",
      "The  number of iems in union of the two sets is 33. \n",
      "The difference of the set is {14} \n",
      "The intersection of the set is {10, 11, 12, 13, 15, 16, 17, 18, 19, 20} \n"
     ]
    }
   ],
   "source": [
    "import random\n",
    "\n",
    "#create empty set \n",
    "s1=set()\n",
    "\n",
    "#for every i, choose random number from range and add it to the empty set\n",
    "for i in range(1,50):\n",
    "    ran1=range(1,40)\n",
    "    ran=random.choice(ran1)\n",
    "    s1.add(ran)\n",
    "    \n",
    "# print the length of the set\n",
    "print(len(s1))\n",
    "\n",
    "#convert list to set\n",
    "s2=set(l)\n",
    "\n",
    "# find union and print the length of the union of two sets\n",
    "set_union =s1|s2\n",
    "print(f\"The  number of iems in union of the two sets is {len(set_union)}. \")\n",
    "\n",
    "# find diferece and print the difference between two sets\n",
    "set_diff=s2-s1\n",
    "print(f\"The difference of the set is {set_diff} \")\n",
    "\n",
    "# find the intersection of two sets and print it \n",
    "set_intersection=s2&s1\n",
    "print(f\"The intersection of the set is {set_intersection} \")"
   ]
  }
 ],
 "metadata": {
  "kernelspec": {
   "display_name": "Python 3.10.6 64-bit",
   "language": "python",
   "name": "python3"
  },
  "language_info": {
   "codemirror_mode": {
    "name": "ipython",
    "version": 3
   },
   "file_extension": ".py",
   "mimetype": "text/x-python",
   "name": "python",
   "nbconvert_exporter": "python",
   "pygments_lexer": "ipython3",
   "version": "3.10.6"
  },
  "orig_nbformat": 4,
  "vscode": {
   "interpreter": {
    "hash": "df7bc51757cee1c5640f40028108a799fef512966b47f20d84c8a3a5a45dca62"
   }
  }
 },
 "nbformat": 4,
 "nbformat_minor": 2
}
