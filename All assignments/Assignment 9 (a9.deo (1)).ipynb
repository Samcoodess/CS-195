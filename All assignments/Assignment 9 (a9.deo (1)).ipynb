{
 "cells": [
  {
   "cell_type": "markdown",
   "metadata": {},
   "source": [
    "***Sambridhi Deo***\n",
    "\n",
    "*CS 195-002*\n",
    "\n",
    "Assigment 9 | Nov 12\n",
    "\n",
    "**Functions**"
   ]
  },
  {
   "cell_type": "code",
   "execution_count": 1,
   "metadata": {},
   "outputs": [
    {
     "name": "stdout",
     "output_type": "stream",
     "text": [
      "Hello, Rashi\n"
     ]
    },
    {
     "data": {
      "text/plain": [
       "5"
      ]
     },
     "execution_count": 1,
     "metadata": {},
     "output_type": "execute_result"
    }
   ],
   "source": [
    "def greeting(name):\n",
    "    \"\"\"Greeting function takes an agument string for parameter name\"\"\"\n",
    "    print(\"Hello,\",name)\n",
    "    return (len(name))\n",
    "\n",
    "greeting(\"Rashi\")\n",
    "\n",
    "    \n",
    "       \n"
   ]
  },
  {
   "cell_type": "code",
   "execution_count": null,
   "metadata": {},
   "outputs": [],
   "source": []
  },
  {
   "cell_type": "code",
   "execution_count": 3,
   "metadata": {},
   "outputs": [
    {
     "name": "stdout",
     "output_type": "stream",
     "text": [
      "Hello, Rashi\n",
      "Hello, JJ\n",
      "Hello, Nina\n",
      "Hello, Indira\n"
     ]
    },
    {
     "data": {
      "text/plain": [
       "17"
      ]
     },
     "execution_count": 3,
     "metadata": {},
     "output_type": "execute_result"
    }
   ],
   "source": [
    "\n",
    "def greetPeople(names):\n",
    "    \"\"\"greetPeople has an string argument for names\"\"\"\n",
    "    sum= 0\n",
    "    for name in names:\n",
    "        sum+=greeting(name)\n",
    "    return(sum)\n",
    "greetPeople([\"Rashi\",\"JJ\",\"Nina\",\"Indira\"]) "
   ]
  },
  {
   "cell_type": "code",
   "execution_count": null,
   "metadata": {},
   "outputs": [],
   "source": []
  }
 ],
 "metadata": {
  "kernelspec": {
   "display_name": "Python 3.10.6 64-bit",
   "language": "python",
   "name": "python3"
  },
  "language_info": {
   "codemirror_mode": {
    "name": "ipython",
    "version": 3
   },
   "file_extension": ".py",
   "mimetype": "text/x-python",
   "name": "python",
   "nbconvert_exporter": "python",
   "pygments_lexer": "ipython3",
   "version": "3.10.6"
  },
  "orig_nbformat": 4,
  "vscode": {
   "interpreter": {
    "hash": "df7bc51757cee1c5640f40028108a799fef512966b47f20d84c8a3a5a45dca62"
   }
  }
 },
 "nbformat": 4,
 "nbformat_minor": 2
}
