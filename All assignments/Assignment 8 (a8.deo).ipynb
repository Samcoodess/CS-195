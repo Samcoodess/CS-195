{
 "cells": [
  {
   "cell_type": "markdown",
   "metadata": {},
   "source": [
    "***Sambridhi Deo***\n",
    "\n",
    "*CS 195-002*\n",
    "\n",
    "Assigment 8 | Nov 6\n",
    "\n",
    "**Dicts and copies**"
   ]
  },
  {
   "cell_type": "code",
   "execution_count": 7,
   "metadata": {},
   "outputs": [
    {
     "name": "stdout",
     "output_type": "stream",
     "text": [
      "{'Sam': 45, 'Ashok': 65, 'Asam': 10}\n"
     ]
    }
   ],
   "source": [
    "#create a dictionary with three str keys\n",
    "# d1={'Sam:45','Ashok:65','Asam:10'}\n",
    "d1=dict(Sam=45,Ashok=65,Asam=10)\n",
    "print(d1)"
   ]
  },
  {
   "cell_type": "code",
   "execution_count": 8,
   "metadata": {},
   "outputs": [
    {
     "name": "stdout",
     "output_type": "stream",
     "text": [
      "{'Sam': [1, 2, 3], 'Ashok': 65, 'Asam': 10}\n"
     ]
    }
   ],
   "source": [
    "#change the value of a key in the dictionary into list and print it\n",
    "d1['Sam']=[1,2,3]\n",
    "print(d1)"
   ]
  },
  {
   "cell_type": "code",
   "execution_count": 9,
   "metadata": {},
   "outputs": [
    {
     "name": "stdout",
     "output_type": "stream",
     "text": [
      "{'Sam': [1, 2, 3, 4], 'Ashok': 65, 'Asam': 10}\n"
     ]
    }
   ],
   "source": [
    "from copy import deepcopy\n",
    "\n",
    "#create a deep copy of d1\n",
    "d2=deepcopy(d1)\n",
    "#add 4 to the key of the dictionary having list as value and print it\n",
    "d2['Sam'].append(4)\n",
    "print(d2)"
   ]
  }
 ],
 "metadata": {
  "kernelspec": {
   "display_name": "Python 3.10.6 64-bit",
   "language": "python",
   "name": "python3"
  },
  "language_info": {
   "codemirror_mode": {
    "name": "ipython",
    "version": 3
   },
   "file_extension": ".py",
   "mimetype": "text/x-python",
   "name": "python",
   "nbconvert_exporter": "python",
   "pygments_lexer": "ipython3",
   "version": "3.10.6"
  },
  "orig_nbformat": 4,
  "vscode": {
   "interpreter": {
    "hash": "df7bc51757cee1c5640f40028108a799fef512966b47f20d84c8a3a5a45dca62"
   }
  }
 },
 "nbformat": 4,
 "nbformat_minor": 2
}
